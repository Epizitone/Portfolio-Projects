{
 "cells": [
  {
   "cell_type": "markdown",
   "id": "90958f36",
   "metadata": {},
   "source": [
    "   Data analysis Project on Netflix Data : By Epizitone Ngulle\n",
    "1. Task 1: What is the most popoular release year for movies on netflix.\n",
    "2. Task 2: What year did netflix add the most content to its platform?\n",
    "3. Task 3: What is the title of the movie with the longest duration?\n",
    "4. Task 4: What is the movie with the longest title in the dataset?\n",
    "5. Task 5: which actr/actress shown up most frequently in netflix database?"
   ]
  },
  {
   "cell_type": "markdown",
   "id": "e5a12ea0",
   "metadata": {},
   "source": [
    "# Importing the neccesary libraries\n",
    "import pandas as pd\n",
    "import matplotlib.pyplot as plt\n",
    "import seaborn as sns\n",
    "from pandasql import sqldf\n",
    "import plotly\n",
    "import plotly.express as px\n",
    "from pandas_profiling import ProfileReport\n",
    "import autovizwidget as autoviz\n",
    "import warnings\n",
    "warnings.simplefilter(action=\"ignore\", category=FutureWarning)\n",
    "pd.options.mode.chained_assignment = None  # To omit default='warnings'"
   ]
  },
  {
   "cell_type": "code",
   "execution_count": 63,
   "id": "c1e60b7b",
   "metadata": {},
   "outputs": [],
   "source": [
    "df=pd.read_csv(r\"C:\\Users\\epizi\\Downloads\\netflix_titles.csv\\netflix_titles.csv\")"
   ]
  },
  {
   "cell_type": "code",
   "execution_count": 64,
   "id": "19b9d15f",
   "metadata": {},
   "outputs": [],
   "source": [
    "from autovizwidget.widget.utils import display_dataframe"
   ]
  },
  {
   "cell_type": "code",
   "execution_count": 65,
   "id": "cc2fd6f9",
   "metadata": {},
   "outputs": [
    {
     "data": {
      "application/vnd.jupyter.widget-view+json": {
       "model_id": "c5e4a1d4e86d4c3eb60a5be8f800876e",
       "version_major": 2,
       "version_minor": 0
      },
      "text/plain": [
       "VBox(children=(HBox(children=(HTML(value='Type:'), Button(description='Table', layout=Layout(width='70px'), st…"
      ]
     },
     "metadata": {},
     "output_type": "display_data"
    },
    {
     "data": {
      "application/vnd.jupyter.widget-view+json": {
       "model_id": "069fbbfc9f014da8af838974f78ba03b",
       "version_major": 2,
       "version_minor": 0
      },
      "text/plain": [
       "Output()"
      ]
     },
     "metadata": {},
     "output_type": "display_data"
    },
    {
     "data": {
      "application/vnd.jupyter.widget-view+json": {
       "model_id": "2f094ac4ce12422e800ce8d01529a231",
       "version_major": 2,
       "version_minor": 0
      },
      "text/plain": [
       "AutoVizWidget()"
      ]
     },
     "execution_count": 65,
     "metadata": {},
     "output_type": "execute_result"
    }
   ],
   "source": [
    "#This above library is use to visualize the relationships between variables\n",
    "\n",
    "display_dataframe(df)"
   ]
  },
  {
   "cell_type": "code",
   "execution_count": 66,
   "id": "9a63a621",
   "metadata": {},
   "outputs": [
    {
     "data": {
      "text/plain": [
       "(8807, 12)"
      ]
     },
     "execution_count": 66,
     "metadata": {},
     "output_type": "execute_result"
    }
   ],
   "source": [
    "df.shape"
   ]
  },
  {
   "cell_type": "code",
   "execution_count": 67,
   "id": "e32bd5ba",
   "metadata": {},
   "outputs": [
    {
     "data": {
      "text/plain": [
       "(3475, 12)"
      ]
     },
     "execution_count": 67,
     "metadata": {},
     "output_type": "execute_result"
    }
   ],
   "source": [
    "#Total number of null values\n",
    "null_values=df[df.isnull().any(axis=1)]\n",
    "null_values.shape\n"
   ]
  },
  {
   "cell_type": "code",
   "execution_count": 68,
   "id": "0613c18e",
   "metadata": {},
   "outputs": [
    {
     "data": {
      "text/plain": [
       "(5332, 12)"
      ]
     },
     "execution_count": 68,
     "metadata": {},
     "output_type": "execute_result"
    }
   ],
   "source": [
    "df =df.dropna()\n",
    "df.shape"
   ]
  },
  {
   "cell_type": "code",
   "execution_count": 69,
   "id": "ab456bab",
   "metadata": {},
   "outputs": [
    {
     "data": {
      "text/plain": [
       "show_id         0\n",
       "type            0\n",
       "title           0\n",
       "director        0\n",
       "cast            0\n",
       "country         0\n",
       "date_added      0\n",
       "release_year    0\n",
       "rating          0\n",
       "duration        0\n",
       "listed_in       0\n",
       "description     0\n",
       "dtype: int64"
      ]
     },
     "execution_count": 69,
     "metadata": {},
     "output_type": "execute_result"
    }
   ],
   "source": [
    "#Checking the no of duplicate records with respect to all columns.\n",
    "df[df.duplicated(subset=None)].count()"
   ]
  },
  {
   "cell_type": "code",
   "execution_count": 70,
   "id": "c9751754",
   "metadata": {},
   "outputs": [
    {
     "data": {
      "text/plain": [
       "show_id         object\n",
       "type            object\n",
       "title           object\n",
       "director        object\n",
       "cast            object\n",
       "country         object\n",
       "date_added      object\n",
       "release_year     int64\n",
       "rating          object\n",
       "duration        object\n",
       "listed_in       object\n",
       "description     object\n",
       "dtype: object"
      ]
     },
     "execution_count": 70,
     "metadata": {},
     "output_type": "execute_result"
    }
   ],
   "source": [
    "#checking the datatypes\n",
    "df.dtypes"
   ]
  },
  {
   "cell_type": "code",
   "execution_count": 73,
   "id": "54ff6cf5",
   "metadata": {},
   "outputs": [],
   "source": [
    "#df['type']= float64(type)"
   ]
  },
  {
   "cell_type": "code",
   "execution_count": 83,
   "id": "21079bca",
   "metadata": {},
   "outputs": [
    {
     "data": {
      "image/png": "[encoded data removed]",
      "text/plain": [
       "<Figure size 432x288 with 1 Axes>"
      ]
     },
     "metadata": {
      "needs_background": "light"
     },
     "output_type": "display_data"
    }
   ],
   "source": [
    "\n",
    "# count plot on content type\n",
    "%matplotlib inline\n",
    "sns.countplot(x=df['type'],data=df)\n",
    "# Show the plot\n",
    "plt.show()\n",
    "# To count the number in each content type"
   ]
  },
  {
   "cell_type": "markdown",
   "id": "7cb7ab06",
   "metadata": {},
   "source": [
    "## Task 1: What is the most popular release year for netflix movies"
   ]
  },
  {
   "cell_type": "code",
   "execution_count": 91,
   "id": "2daafe22",
   "metadata": {},
   "outputs": [
    {
     "data": {
      "text/html": [
       "<div>\n",
       "<style scoped>\n",
       "    .dataframe tbody tr th:only-of-type {\n",
       "        vertical-align: middle;\n",
       "    }\n",
       "\n",
       "    .dataframe tbody tr th {\n",
       "        vertical-align: top;\n",
       "    }\n",
       "\n",
       "    .dataframe thead th {\n",
       "        text-align: right;\n",
       "    }\n",
       "</style>\n",
       "<table border=\"1\" class=\"dataframe\">\n",
       "  <thead>\n",
       "    <tr style=\"text-align: right;\">\n",
       "      <th></th>\n",
       "      <th>release_year</th>\n",
       "      <th>Total_no_released_movies</th>\n",
       "    </tr>\n",
       "  </thead>\n",
       "  <tbody>\n",
       "    <tr>\n",
       "      <th>67</th>\n",
       "      <td>2017</td>\n",
       "      <td>640</td>\n",
       "    </tr>\n",
       "    <tr>\n",
       "      <th>68</th>\n",
       "      <td>2018</td>\n",
       "      <td>632</td>\n",
       "    </tr>\n",
       "    <tr>\n",
       "      <th>66</th>\n",
       "      <td>2016</td>\n",
       "      <td>567</td>\n",
       "    </tr>\n",
       "    <tr>\n",
       "      <th>69</th>\n",
       "      <td>2019</td>\n",
       "      <td>495</td>\n",
       "    </tr>\n",
       "    <tr>\n",
       "      <th>70</th>\n",
       "      <td>2020</td>\n",
       "      <td>409</td>\n",
       "    </tr>\n",
       "    <tr>\n",
       "      <th>...</th>\n",
       "      <td>...</td>\n",
       "      <td>...</td>\n",
       "    </tr>\n",
       "    <tr>\n",
       "      <th>9</th>\n",
       "      <td>1959</td>\n",
       "      <td>1</td>\n",
       "    </tr>\n",
       "    <tr>\n",
       "      <th>11</th>\n",
       "      <td>1961</td>\n",
       "      <td>1</td>\n",
       "    </tr>\n",
       "    <tr>\n",
       "      <th>13</th>\n",
       "      <td>1963</td>\n",
       "      <td>1</td>\n",
       "    </tr>\n",
       "    <tr>\n",
       "      <th>16</th>\n",
       "      <td>1966</td>\n",
       "      <td>1</td>\n",
       "    </tr>\n",
       "    <tr>\n",
       "      <th>0</th>\n",
       "      <td>1942</td>\n",
       "      <td>1</td>\n",
       "    </tr>\n",
       "  </tbody>\n",
       "</table>\n",
       "<p>72 rows × 2 columns</p>\n",
       "</div>"
      ],
      "text/plain": [
       "    release_year  Total_no_released_movies\n",
       "67          2017                       640\n",
       "68          2018                       632\n",
       "66          2016                       567\n",
       "69          2019                       495\n",
       "70          2020                       409\n",
       "..           ...                       ...\n",
       "9           1959                         1\n",
       "11          1961                         1\n",
       "13          1963                         1\n",
       "16          1966                         1\n",
       "0           1942                         1\n",
       "\n",
       "[72 rows x 2 columns]"
      ]
     },
     "execution_count": 91,
     "metadata": {},
     "output_type": "execute_result"
    }
   ],
   "source": [
    "popular_release_yr = df[df['type']=='Movie']\n",
    "popular_release_yr=popular_release_yr.groupby('release_year')['show_id'].count().reset_index().sort_values('show_id',ascending=False)\n",
    "popular_release_yr.columns=['release_year','Total_no_released_movies']\n",
    "popular_release_yr"
   ]
  },
  {
   "cell_type": "code",
   "execution_count": 96,
   "id": "2cec1a1c",
   "metadata": {},
   "outputs": [
    {
     "data": {
      "image/png": "[encoded data removed]",
      "text/plain": [
       "<Figure size 720x288 with 1 Axes>"
      ]
     },
     "metadata": {
      "needs_background": "light"
     },
     "output_type": "display_data"
    }
   ],
   "source": [
    "%matplotlib inline\n",
    "plt.figure(figsize=(10, 4))\n",
    "plt.grid(visible=None)\n",
    "release_year=popular_release_yr.head(10)\n",
    "sns.lineplot(x=release_year['release_year'],y=release_year['Total_no_released_movies'])\n",
    "sns.set(rc={\"axes.facecolor\":\"#FFFDE7\", \"axes.grid\":True,'xtick.labelsize':14,'ytick.labelsize':14})\n",
    "plt.xticks(release_year['release_year'],rotation='vertical')\n",
    "plt.title('Most Popoular release year for movies on Netflix')\n",
    "plt.show()"
   ]
  },
  {
   "cell_type": "markdown",
   "id": "52408860",
   "metadata": {},
   "source": [
    "##### Ans: 2017 and 2018"
   ]
  },
  {
   "cell_type": "markdown",
   "id": "cecc031c",
   "metadata": {},
   "source": [
    "## Task 2: What year did netflix add the most of its contents to its platform"
   ]
  },
  {
   "cell_type": "code",
   "execution_count": 106,
   "id": "2729a227",
   "metadata": {},
   "outputs": [
    {
     "data": {
      "text/html": [
       "<div>\n",
       "<style scoped>\n",
       "    .dataframe tbody tr th:only-of-type {\n",
       "        vertical-align: middle;\n",
       "    }\n",
       "\n",
       "    .dataframe tbody tr th {\n",
       "        vertical-align: top;\n",
       "    }\n",
       "\n",
       "    .dataframe thead th {\n",
       "        text-align: right;\n",
       "    }\n",
       "</style>\n",
       "<table border=\"1\" class=\"dataframe\">\n",
       "  <thead>\n",
       "    <tr style=\"text-align: right;\">\n",
       "      <th></th>\n",
       "      <th>show_id</th>\n",
       "      <th>type</th>\n",
       "      <th>title</th>\n",
       "      <th>director</th>\n",
       "      <th>cast</th>\n",
       "      <th>country</th>\n",
       "      <th>date_added</th>\n",
       "      <th>release_year</th>\n",
       "      <th>rating</th>\n",
       "      <th>duration</th>\n",
       "      <th>listed_in</th>\n",
       "      <th>description</th>\n",
       "      <th>date</th>\n",
       "      <th>year_added</th>\n",
       "    </tr>\n",
       "  </thead>\n",
       "  <tbody>\n",
       "    <tr>\n",
       "      <th>7</th>\n",
       "      <td>s8</td>\n",
       "      <td>Movie</td>\n",
       "      <td>Sankofa</td>\n",
       "      <td>Haile Gerima</td>\n",
       "      <td>Kofi Ghanaba, Oyafunmike Ogunlano, Alexandra Duah, Nick Medley, Mutabaruka, Afemo Omilami, Reggie Carter, Mzuri</td>\n",
       "      <td>United States, Ghana, Burkina Faso, United Kingdom, Germany, Ethiopia</td>\n",
       "      <td>2021-09-24</td>\n",
       "      <td>1993</td>\n",
       "      <td>TV-MA</td>\n",
       "      <td>125 min</td>\n",
       "      <td>Dramas, Independent Movies, International Movies</td>\n",
       "      <td>On a photo shoot in Ghana, an American model slips back in time, becomes enslaved on a plantation and bears witness to the agony of her ancestral past.</td>\n",
       "      <td>2021-09-24</td>\n",
       "      <td>2021</td>\n",
       "    </tr>\n",
       "    <tr>\n",
       "      <th>8</th>\n",
       "      <td>s9</td>\n",
       "      <td>TV Show</td>\n",
       "      <td>The Great British Baking Show</td>\n",
       "      <td>Andy Devonshire</td>\n",
       "      <td>Mel Giedroyc, Sue Perkins, Mary Berry, Paul Hollywood</td>\n",
       "      <td>United Kingdom</td>\n",
       "      <td>2021-09-24</td>\n",
       "      <td>2021</td>\n",
       "      <td>TV-14</td>\n",
       "      <td>9 Seasons</td>\n",
       "      <td>British TV Shows, Reality TV</td>\n",
       "      <td>A talented batch of amateur bakers face off in a 10-week competition, whipping up their best dishes in the hopes of being named the U.K.'s best.</td>\n",
       "      <td>2021-09-24</td>\n",
       "      <td>2021</td>\n",
       "    </tr>\n",
       "  </tbody>\n",
       "</table>\n",
       "</div>"
      ],
      "text/plain": [
       "  show_id     type                          title         director  \\\n",
       "7      s8    Movie                        Sankofa     Haile Gerima   \n",
       "8      s9  TV Show  The Great British Baking Show  Andy Devonshire   \n",
       "\n",
       "                                                                                                              cast  \\\n",
       "7  Kofi Ghanaba, Oyafunmike Ogunlano, Alexandra Duah, Nick Medley, Mutabaruka, Afemo Omilami, Reggie Carter, Mzuri   \n",
       "8                                                            Mel Giedroyc, Sue Perkins, Mary Berry, Paul Hollywood   \n",
       "\n",
       "                                                                 country  \\\n",
       "7  United States, Ghana, Burkina Faso, United Kingdom, Germany, Ethiopia   \n",
       "8                                                         United Kingdom   \n",
       "\n",
       "  date_added  release_year rating   duration  \\\n",
       "7 2021-09-24          1993  TV-MA    125 min   \n",
       "8 2021-09-24          2021  TV-14  9 Seasons   \n",
       "\n",
       "                                          listed_in  \\\n",
       "7  Dramas, Independent Movies, International Movies   \n",
       "8                      British TV Shows, Reality TV   \n",
       "\n",
       "                                                                                                                                               description  \\\n",
       "7  On a photo shoot in Ghana, an American model slips back in time, becomes enslaved on a plantation and bears witness to the agony of her ancestral past.   \n",
       "8         A talented batch of amateur bakers face off in a 10-week competition, whipping up their best dishes in the hopes of being named the U.K.'s best.   \n",
       "\n",
       "        date  year_added  \n",
       "7 2021-09-24        2021  \n",
       "8 2021-09-24        2021  "
      ]
     },
     "execution_count": 106,
     "metadata": {},
     "output_type": "execute_result"
    }
   ],
   "source": [
    "df['date_added'] = pd.to_datetime(df['date_added'])\n",
    "df['year_added'] = df['date_added'].dt.year\n",
    "df.head(2)"
   ]
  },
  {
   "cell_type": "code",
   "execution_count": 107,
   "id": "5e53a3a0",
   "metadata": {},
   "outputs": [
    {
     "data": {
      "text/html": [
       "<div>\n",
       "<style scoped>\n",
       "    .dataframe tbody tr th:only-of-type {\n",
       "        vertical-align: middle;\n",
       "    }\n",
       "\n",
       "    .dataframe tbody tr th {\n",
       "        vertical-align: top;\n",
       "    }\n",
       "\n",
       "    .dataframe thead th {\n",
       "        text-align: right;\n",
       "    }\n",
       "</style>\n",
       "<table border=\"1\" class=\"dataframe\">\n",
       "  <thead>\n",
       "    <tr style=\"text-align: right;\">\n",
       "      <th></th>\n",
       "      <th>year_added</th>\n",
       "      <th>Total_no_added_contents</th>\n",
       "    </tr>\n",
       "  </thead>\n",
       "  <tbody>\n",
       "    <tr>\n",
       "      <th>11</th>\n",
       "      <td>2019</td>\n",
       "      <td>1265</td>\n",
       "    </tr>\n",
       "    <tr>\n",
       "      <th>12</th>\n",
       "      <td>2020</td>\n",
       "      <td>1194</td>\n",
       "    </tr>\n",
       "    <tr>\n",
       "      <th>10</th>\n",
       "      <td>2018</td>\n",
       "      <td>1101</td>\n",
       "    </tr>\n",
       "    <tr>\n",
       "      <th>13</th>\n",
       "      <td>2021</td>\n",
       "      <td>755</td>\n",
       "    </tr>\n",
       "    <tr>\n",
       "      <th>9</th>\n",
       "      <td>2017</td>\n",
       "      <td>724</td>\n",
       "    </tr>\n",
       "    <tr>\n",
       "      <th>8</th>\n",
       "      <td>2016</td>\n",
       "      <td>202</td>\n",
       "    </tr>\n",
       "    <tr>\n",
       "      <th>7</th>\n",
       "      <td>2015</td>\n",
       "      <td>50</td>\n",
       "    </tr>\n",
       "    <tr>\n",
       "      <th>6</th>\n",
       "      <td>2014</td>\n",
       "      <td>14</td>\n",
       "    </tr>\n",
       "    <tr>\n",
       "      <th>3</th>\n",
       "      <td>2011</td>\n",
       "      <td>13</td>\n",
       "    </tr>\n",
       "    <tr>\n",
       "      <th>5</th>\n",
       "      <td>2013</td>\n",
       "      <td>7</td>\n",
       "    </tr>\n",
       "    <tr>\n",
       "      <th>4</th>\n",
       "      <td>2012</td>\n",
       "      <td>3</td>\n",
       "    </tr>\n",
       "    <tr>\n",
       "      <th>1</th>\n",
       "      <td>2009</td>\n",
       "      <td>2</td>\n",
       "    </tr>\n",
       "    <tr>\n",
       "      <th>0</th>\n",
       "      <td>2008</td>\n",
       "      <td>1</td>\n",
       "    </tr>\n",
       "    <tr>\n",
       "      <th>2</th>\n",
       "      <td>2010</td>\n",
       "      <td>1</td>\n",
       "    </tr>\n",
       "  </tbody>\n",
       "</table>\n",
       "</div>"
      ],
      "text/plain": [
       "    year_added  Total_no_added_contents\n",
       "11        2019                     1265\n",
       "12        2020                     1194\n",
       "10        2018                     1101\n",
       "13        2021                      755\n",
       "9         2017                      724\n",
       "8         2016                      202\n",
       "7         2015                       50\n",
       "6         2014                       14\n",
       "3         2011                       13\n",
       "5         2013                        7\n",
       "4         2012                        3\n",
       "1         2009                        2\n",
       "0         2008                        1\n",
       "2         2010                        1"
      ]
     },
     "execution_count": 107,
     "metadata": {},
     "output_type": "execute_result"
    }
   ],
   "source": [
    "most_content_added_year=df.groupby('year_added')['show_id'].count().reset_index().sort_values('show_id',ascending=False)\n",
    "most_content_added_year.columns=['year_added','Total_no_added_contents']\n",
    "most_content_added_year"
   ]
  },
  {
   "cell_type": "code",
   "execution_count": 108,
   "id": "80d3d778",
   "metadata": {},
   "outputs": [
    {
     "data": {
      "image/png": "[encoded data removed]",
      "text/plain": [
       "<Figure size 720x288 with 1 Axes>"
      ]
     },
     "metadata": {
      "needs_background": "light"
     },
     "output_type": "display_data"
    }
   ],
   "source": [
    "%matplotlib inline\n",
    "plt.figure(figsize=(10, 4))\n",
    "plt.grid(visible=None)\n",
    "plt.bar(most_content_added_year['year_added'],most_content_added_year['Total_no_added_contents'])\n",
    "plt.xlabel(\"Year of Added to Netflix\")\n",
    "plt.ylabel(\"No of added contents to Netflix\")\n",
    "plt.xticks(most_content_added_year['year_added'],rotation='vertical')\n",
    "plt.title('Year of Contents added to Netflix')\n",
    "plt.show()"
   ]
  },
  {
   "cell_type": "markdown",
   "id": "f8864444",
   "metadata": {},
   "source": [
    "###### Ans: The year 2019"
   ]
  },
  {
   "cell_type": "markdown",
   "id": "59ce49d7",
   "metadata": {},
   "source": [
    "## Task 3: What is the title of movies with the longest duration\n"
   ]
  },
  {
   "cell_type": "code",
   "execution_count": 135,
   "id": "f0584436",
   "metadata": {},
   "outputs": [
    {
     "data": {
      "text/html": [
       "<div>\n",
       "<style scoped>\n",
       "    .dataframe tbody tr th:only-of-type {\n",
       "        vertical-align: middle;\n",
       "    }\n",
       "\n",
       "    .dataframe tbody tr th {\n",
       "        vertical-align: top;\n",
       "    }\n",
       "\n",
       "    .dataframe thead th {\n",
       "        text-align: right;\n",
       "    }\n",
       "</style>\n",
       "<table border=\"1\" class=\"dataframe\">\n",
       "  <thead>\n",
       "    <tr style=\"text-align: right;\">\n",
       "      <th></th>\n",
       "      <th>show_id</th>\n",
       "      <th>type</th>\n",
       "      <th>title</th>\n",
       "      <th>director</th>\n",
       "      <th>cast</th>\n",
       "      <th>country</th>\n",
       "      <th>date_added</th>\n",
       "      <th>release_year</th>\n",
       "      <th>rating</th>\n",
       "      <th>duration</th>\n",
       "      <th>listed_in</th>\n",
       "      <th>description</th>\n",
       "      <th>date</th>\n",
       "      <th>year_added</th>\n",
       "    </tr>\n",
       "  </thead>\n",
       "  <tbody>\n",
       "    <tr>\n",
       "      <th>7</th>\n",
       "      <td>s8</td>\n",
       "      <td>Movie</td>\n",
       "      <td>Sankofa</td>\n",
       "      <td>Haile Gerima</td>\n",
       "      <td>Kofi Ghanaba, Oyafunmike Ogunlano, Alexandra Duah, Nick Medley, Mutabaruka, Afemo Omilami, Reggie Carter, Mzuri</td>\n",
       "      <td>United States, Ghana, Burkina Faso, United Kingdom, Germany, Ethiopia</td>\n",
       "      <td>2021-09-24</td>\n",
       "      <td>1993</td>\n",
       "      <td>TV-MA</td>\n",
       "      <td>125 min</td>\n",
       "      <td>Dramas, Independent Movies, International Movies</td>\n",
       "      <td>On a photo shoot in Ghana, an American model slips back in time, becomes enslaved on a plantation and bears witness to the agony of her ancestral past.</td>\n",
       "      <td>2021-09-24</td>\n",
       "      <td>2021</td>\n",
       "    </tr>\n",
       "    <tr>\n",
       "      <th>9</th>\n",
       "      <td>s10</td>\n",
       "      <td>Movie</td>\n",
       "      <td>The Starling</td>\n",
       "      <td>Theodore Melfi</td>\n",
       "      <td>Melissa McCarthy, Chris O'Dowd, Kevin Kline, Timothy Olyphant, Daveed Diggs, Skyler Gisondo, Laura Harrier, Rosalind Chao, Kimberly Quinn, Loretta Devine, Ravi Kapoor</td>\n",
       "      <td>United States</td>\n",
       "      <td>2021-09-24</td>\n",
       "      <td>2021</td>\n",
       "      <td>PG-13</td>\n",
       "      <td>104 min</td>\n",
       "      <td>Comedies, Dramas</td>\n",
       "      <td>A woman adjusting to life after a loss contends with a feisty bird that's taken over her garden — and a husband who's struggling to find a way forward.</td>\n",
       "      <td>2021-09-24</td>\n",
       "      <td>2021</td>\n",
       "    </tr>\n",
       "  </tbody>\n",
       "</table>\n",
       "</div>"
      ],
      "text/plain": [
       "  show_id   type         title        director  \\\n",
       "7      s8  Movie       Sankofa    Haile Gerima   \n",
       "9     s10  Movie  The Starling  Theodore Melfi   \n",
       "\n",
       "                                                                                                                                                                     cast  \\\n",
       "7                                                         Kofi Ghanaba, Oyafunmike Ogunlano, Alexandra Duah, Nick Medley, Mutabaruka, Afemo Omilami, Reggie Carter, Mzuri   \n",
       "9  Melissa McCarthy, Chris O'Dowd, Kevin Kline, Timothy Olyphant, Daveed Diggs, Skyler Gisondo, Laura Harrier, Rosalind Chao, Kimberly Quinn, Loretta Devine, Ravi Kapoor   \n",
       "\n",
       "                                                                 country  \\\n",
       "7  United States, Ghana, Burkina Faso, United Kingdom, Germany, Ethiopia   \n",
       "9                                                          United States   \n",
       "\n",
       "  date_added  release_year rating duration  \\\n",
       "7 2021-09-24          1993  TV-MA  125 min   \n",
       "9 2021-09-24          2021  PG-13  104 min   \n",
       "\n",
       "                                          listed_in  \\\n",
       "7  Dramas, Independent Movies, International Movies   \n",
       "9                                  Comedies, Dramas   \n",
       "\n",
       "                                                                                                                                               description  \\\n",
       "7  On a photo shoot in Ghana, an American model slips back in time, becomes enslaved on a plantation and bears witness to the agony of her ancestral past.   \n",
       "9  A woman adjusting to life after a loss contends with a feisty bird that's taken over her garden — and a husband who's struggling to find a way forward.   \n",
       "\n",
       "        date  year_added  \n",
       "7 2021-09-24        2021  \n",
       "9 2021-09-24        2021  "
      ]
     },
     "execution_count": 135,
     "metadata": {},
     "output_type": "execute_result"
    }
   ],
   "source": [
    "movie_title=df[df['type']=='Movie']\n",
    "movie_title.head(2)"
   ]
  },
  {
   "cell_type": "code",
   "execution_count": 154,
   "id": "103338d9",
   "metadata": {},
   "outputs": [
    {
     "name": "stdout",
     "output_type": "stream",
     "text": [
      "                                    title  title_length\n",
      "0                  The School of Mischief           253\n",
      "1                          No Longer kids           237\n",
      "2             Once Upon a Time in America           229\n",
      "3                                  Sangam           228\n",
      "4                                  Lagaan           224\n",
      "...                                   ...           ...\n",
      "5180  Buddy Thunderstruck: The Maybe Pile            14\n",
      "5181                                Aziza            13\n",
      "5182                                 Zion            12\n",
      "5183       Cosmos Laundromat: First Cycle            12\n",
      "5184                     Cops and Robbers             8\n",
      "\n",
      "[5185 rows x 2 columns]\n"
     ]
    }
   ],
   "source": [
    "mysql = lambda q: sqldf(q, globals())\n",
    "\n",
    "# Applying SQL query to find the maximum movie title \n",
    "Query1='''\n",
    "          Select title, CAST(duration as int) as title_length from movie_title\n",
    "          group by title order by (title_length) desc\n",
    "'''\n",
    "results = mysql(Query1)\n",
    "print(results)"
   ]
  },
  {
   "cell_type": "markdown",
   "id": "97d22573",
   "metadata": {},
   "source": [
    "## 4. What is the movie with the longest title in the dataset?"
   ]
  },
  {
   "cell_type": "code",
   "execution_count": 157,
   "id": "d8f9c9bf",
   "metadata": {},
   "outputs": [
    {
     "data": {
      "text/html": [
       "<div>\n",
       "<style scoped>\n",
       "    .dataframe tbody tr th:only-of-type {\n",
       "        vertical-align: middle;\n",
       "    }\n",
       "\n",
       "    .dataframe tbody tr th {\n",
       "        vertical-align: top;\n",
       "    }\n",
       "\n",
       "    .dataframe thead th {\n",
       "        text-align: right;\n",
       "    }\n",
       "</style>\n",
       "<table border=\"1\" class=\"dataframe\">\n",
       "  <thead>\n",
       "    <tr style=\"text-align: right;\">\n",
       "      <th></th>\n",
       "      <th>show_id</th>\n",
       "      <th>type</th>\n",
       "      <th>title</th>\n",
       "      <th>director</th>\n",
       "      <th>cast</th>\n",
       "      <th>country</th>\n",
       "      <th>date_added</th>\n",
       "      <th>release_year</th>\n",
       "      <th>rating</th>\n",
       "      <th>duration</th>\n",
       "      <th>listed_in</th>\n",
       "      <th>description</th>\n",
       "      <th>date</th>\n",
       "      <th>year_added</th>\n",
       "      <th>title_length</th>\n",
       "    </tr>\n",
       "  </thead>\n",
       "  <tbody>\n",
       "    <tr>\n",
       "      <th>7</th>\n",
       "      <td>s8</td>\n",
       "      <td>Movie</td>\n",
       "      <td>Sankofa</td>\n",
       "      <td>Haile Gerima</td>\n",
       "      <td>Kofi Ghanaba, Oyafunmike Ogunlano, Alexandra Duah, Nick Medley, Mutabaruka, Afemo Omilami, Reggie Carter, Mzuri</td>\n",
       "      <td>United States, Ghana, Burkina Faso, United Kingdom, Germany, Ethiopia</td>\n",
       "      <td>2021-09-24</td>\n",
       "      <td>1993</td>\n",
       "      <td>TV-MA</td>\n",
       "      <td>125 min</td>\n",
       "      <td>Dramas, Independent Movies, International Movies</td>\n",
       "      <td>On a photo shoot in Ghana, an American model slips back in time, becomes enslaved on a plantation and bears witness to the agony of her ancestral past.</td>\n",
       "      <td>2021-09-24</td>\n",
       "      <td>2021</td>\n",
       "      <td>7</td>\n",
       "    </tr>\n",
       "  </tbody>\n",
       "</table>\n",
       "</div>"
      ],
      "text/plain": [
       "  show_id   type    title      director  \\\n",
       "7      s8  Movie  Sankofa  Haile Gerima   \n",
       "\n",
       "                                                                                                              cast  \\\n",
       "7  Kofi Ghanaba, Oyafunmike Ogunlano, Alexandra Duah, Nick Medley, Mutabaruka, Afemo Omilami, Reggie Carter, Mzuri   \n",
       "\n",
       "                                                                 country  \\\n",
       "7  United States, Ghana, Burkina Faso, United Kingdom, Germany, Ethiopia   \n",
       "\n",
       "  date_added  release_year rating duration  \\\n",
       "7 2021-09-24          1993  TV-MA  125 min   \n",
       "\n",
       "                                          listed_in  \\\n",
       "7  Dramas, Independent Movies, International Movies   \n",
       "\n",
       "                                                                                                                                               description  \\\n",
       "7  On a photo shoot in Ghana, an American model slips back in time, becomes enslaved on a plantation and bears witness to the agony of her ancestral past.   \n",
       "\n",
       "        date  year_added  title_length  \n",
       "7 2021-09-24        2021             7  "
      ]
     },
     "execution_count": 157,
     "metadata": {},
     "output_type": "execute_result"
    }
   ],
   "source": [
    "#counting the length of the movie titles\n",
    "movie_title['title_length']=movie_title['title'].str.len()\n",
    "movie_title.head(1)"
   ]
  },
  {
   "cell_type": "code",
   "execution_count": 170,
   "id": "32f70c4b",
   "metadata": {},
   "outputs": [
    {
     "data": {
      "text/html": [
       "<div>\n",
       "<style scoped>\n",
       "    .dataframe tbody tr th:only-of-type {\n",
       "        vertical-align: middle;\n",
       "    }\n",
       "\n",
       "    .dataframe tbody tr th {\n",
       "        vertical-align: top;\n",
       "    }\n",
       "\n",
       "    .dataframe thead th {\n",
       "        text-align: right;\n",
       "    }\n",
       "</style>\n",
       "<table border=\"1\" class=\"dataframe\">\n",
       "  <thead>\n",
       "    <tr style=\"text-align: right;\">\n",
       "      <th></th>\n",
       "      <th>title</th>\n",
       "      <th>title_length</th>\n",
       "    </tr>\n",
       "  </thead>\n",
       "  <tbody>\n",
       "    <tr>\n",
       "      <th>0</th>\n",
       "      <td>Jim &amp; Andy: The Great Beyond - Featuring a Very Special, Contractually Obligated Mention of Tony Clifton</td>\n",
       "      <td>104</td>\n",
       "    </tr>\n",
       "    <tr>\n",
       "      <th>1</th>\n",
       "      <td>Steve Martin and Martin Short: An Evening You Will Forget for the Rest of Your Life</td>\n",
       "      <td>83</td>\n",
       "    </tr>\n",
       "    <tr>\n",
       "      <th>2</th>\n",
       "      <td>Willy and the Guardians of the Lake: Tales from the Lakeside Winter Adventure</td>\n",
       "      <td>77</td>\n",
       "    </tr>\n",
       "    <tr>\n",
       "      <th>3</th>\n",
       "      <td>Green White Green (And All the Beautiful Colours in My Mosaic of Madness)</td>\n",
       "      <td>73</td>\n",
       "    </tr>\n",
       "    <tr>\n",
       "      <th>4</th>\n",
       "      <td>Judah Friedlander: America Is the Greatest Country in the United States</td>\n",
       "      <td>71</td>\n",
       "    </tr>\n",
       "  </tbody>\n",
       "</table>\n",
       "</div>"
      ],
      "text/plain": [
       "                                                                                                      title  \\\n",
       "0  Jim & Andy: The Great Beyond - Featuring a Very Special, Contractually Obligated Mention of Tony Clifton   \n",
       "1                       Steve Martin and Martin Short: An Evening You Will Forget for the Rest of Your Life   \n",
       "2                             Willy and the Guardians of the Lake: Tales from the Lakeside Winter Adventure   \n",
       "3                                 Green White Green (And All the Beautiful Colours in My Mosaic of Madness)   \n",
       "4                                   Judah Friedlander: America Is the Greatest Country in the United States   \n",
       "\n",
       "   title_length  \n",
       "0           104  \n",
       "1            83  \n",
       "2            77  \n",
       "3            73  \n",
       "4            71  "
      ]
     },
     "execution_count": 170,
     "metadata": {},
     "output_type": "execute_result"
    }
   ],
   "source": [
    "# Applying SQL query to find the maximum movie title \n",
    "Query1='''\n",
    "          Select title ,max(title_length) as title_length from movie_title\n",
    "          Group By title Order by max(title_length) desc\n",
    "'''\n",
    "results=mysql(Query1).head()\n",
    "results"
   ]
  },
  {
   "cell_type": "markdown",
   "id": "5093eea4",
   "metadata": {},
   "source": [
    "##### Ans: Jim & Andy: The Great Beyond - Featuring a Very Special, Contractually Obligated of Tony Clifton 104 Characters"
   ]
  },
  {
   "cell_type": "markdown",
   "id": "d696973b",
   "metadata": {},
   "source": [
    "## Task 5: Which Actor/Actress showed more frequently in the netflix dataset"
   ]
  },
  {
   "cell_type": "code",
   "execution_count": 172,
   "id": "49455029",
   "metadata": {},
   "outputs": [
    {
     "data": {
      "text/html": [
       "<div>\n",
       "<style scoped>\n",
       "    .dataframe tbody tr th:only-of-type {\n",
       "        vertical-align: middle;\n",
       "    }\n",
       "\n",
       "    .dataframe tbody tr th {\n",
       "        vertical-align: top;\n",
       "    }\n",
       "\n",
       "    .dataframe thead th {\n",
       "        text-align: right;\n",
       "    }\n",
       "</style>\n",
       "<table border=\"1\" class=\"dataframe\">\n",
       "  <thead>\n",
       "    <tr style=\"text-align: right;\">\n",
       "      <th></th>\n",
       "      <th>show_id</th>\n",
       "      <th>type</th>\n",
       "      <th>title</th>\n",
       "      <th>director</th>\n",
       "      <th>cast</th>\n",
       "      <th>country</th>\n",
       "      <th>date_added</th>\n",
       "      <th>release_year</th>\n",
       "      <th>rating</th>\n",
       "      <th>duration</th>\n",
       "      <th>listed_in</th>\n",
       "      <th>description</th>\n",
       "      <th>date</th>\n",
       "      <th>year_added</th>\n",
       "      <th>casts</th>\n",
       "    </tr>\n",
       "  </thead>\n",
       "  <tbody>\n",
       "    <tr>\n",
       "      <th>7</th>\n",
       "      <td>s8</td>\n",
       "      <td>Movie</td>\n",
       "      <td>Sankofa</td>\n",
       "      <td>Haile Gerima</td>\n",
       "      <td>Kofi Ghanaba, Oyafunmike Ogunlano, Alexandra Duah, Nick Medley, Mutabaruka, Afemo Omilami, Reggie Carter, Mzuri</td>\n",
       "      <td>United States, Ghana, Burkina Faso, United Kingdom, Germany, Ethiopia</td>\n",
       "      <td>2021-09-24</td>\n",
       "      <td>1993</td>\n",
       "      <td>TV-MA</td>\n",
       "      <td>125 min</td>\n",
       "      <td>Dramas, Independent Movies, International Movies</td>\n",
       "      <td>On a photo shoot in Ghana, an American model slips back in time, becomes enslaved on a plantation and bears witness to the agony of her ancestral past.</td>\n",
       "      <td>2021-09-24</td>\n",
       "      <td>2021</td>\n",
       "      <td>[Kofi Ghanaba,  Oyafunmike Ogunlano,  Alexandra Duah,  Nick Medley,  Mutabaruka,  Afemo Omilami,  Reggie Carter,  Mzuri]</td>\n",
       "    </tr>\n",
       "    <tr>\n",
       "      <th>8</th>\n",
       "      <td>s9</td>\n",
       "      <td>TV Show</td>\n",
       "      <td>The Great British Baking Show</td>\n",
       "      <td>Andy Devonshire</td>\n",
       "      <td>Mel Giedroyc, Sue Perkins, Mary Berry, Paul Hollywood</td>\n",
       "      <td>United Kingdom</td>\n",
       "      <td>2021-09-24</td>\n",
       "      <td>2021</td>\n",
       "      <td>TV-14</td>\n",
       "      <td>9 Seasons</td>\n",
       "      <td>British TV Shows, Reality TV</td>\n",
       "      <td>A talented batch of amateur bakers face off in a 10-week competition, whipping up their best dishes in the hopes of being named the U.K.'s best.</td>\n",
       "      <td>2021-09-24</td>\n",
       "      <td>2021</td>\n",
       "      <td>[Mel Giedroyc,  Sue Perkins,  Mary Berry,  Paul Hollywood]</td>\n",
       "    </tr>\n",
       "    <tr>\n",
       "      <th>9</th>\n",
       "      <td>s10</td>\n",
       "      <td>Movie</td>\n",
       "      <td>The Starling</td>\n",
       "      <td>Theodore Melfi</td>\n",
       "      <td>Melissa McCarthy, Chris O'Dowd, Kevin Kline, Timothy Olyphant, Daveed Diggs, Skyler Gisondo, Laura Harrier, Rosalind Chao, Kimberly Quinn, Loretta Devine, Ravi Kapoor</td>\n",
       "      <td>United States</td>\n",
       "      <td>2021-09-24</td>\n",
       "      <td>2021</td>\n",
       "      <td>PG-13</td>\n",
       "      <td>104 min</td>\n",
       "      <td>Comedies, Dramas</td>\n",
       "      <td>A woman adjusting to life after a loss contends with a feisty bird that's taken over her garden — and a husband who's struggling to find a way forward.</td>\n",
       "      <td>2021-09-24</td>\n",
       "      <td>2021</td>\n",
       "      <td>[Melissa McCarthy,  Chris O'Dowd,  Kevin Kline,  Timothy Olyphant,  Daveed Diggs,  Skyler Gisondo,  Laura Harrier,  Rosalind Chao,  Kimberly Quinn,  Loretta Devine,  Ravi Kapoor]</td>\n",
       "    </tr>\n",
       "    <tr>\n",
       "      <th>12</th>\n",
       "      <td>s13</td>\n",
       "      <td>Movie</td>\n",
       "      <td>Je Suis Karl</td>\n",
       "      <td>Christian Schwochow</td>\n",
       "      <td>Luna Wedler, Jannis Niewöhner, Milan Peschel, Edin Hasanović, Anna Fialová, Marlon Boess, Victor Boccard, Fleur Geffrier, Aziz Dyab, Mélanie Fouché, Elizaveta Maximová</td>\n",
       "      <td>Germany, Czech Republic</td>\n",
       "      <td>2021-09-23</td>\n",
       "      <td>2021</td>\n",
       "      <td>TV-MA</td>\n",
       "      <td>127 min</td>\n",
       "      <td>Dramas, International Movies</td>\n",
       "      <td>After most of her family is murdered in a terrorist bombing, a young woman is unknowingly lured into joining the very group that killed them.</td>\n",
       "      <td>2021-09-23</td>\n",
       "      <td>2021</td>\n",
       "      <td>[Luna Wedler,  Jannis Niewöhner,  Milan Peschel,  Edin Hasanović,  Anna Fialová,  Marlon Boess,  Victor Boccard,  Fleur Geffrier,  Aziz Dyab,  Mélanie Fouché,  Elizaveta Maximová]</td>\n",
       "    </tr>\n",
       "    <tr>\n",
       "      <th>24</th>\n",
       "      <td>s25</td>\n",
       "      <td>Movie</td>\n",
       "      <td>Jeans</td>\n",
       "      <td>S. Shankar</td>\n",
       "      <td>Prashanth, Aishwarya Rai Bachchan, Sri Lakshmi, Nassar</td>\n",
       "      <td>India</td>\n",
       "      <td>2021-09-21</td>\n",
       "      <td>1998</td>\n",
       "      <td>TV-14</td>\n",
       "      <td>166 min</td>\n",
       "      <td>Comedies, International Movies, Romantic Movies</td>\n",
       "      <td>When the father of the man she loves insists that his twin sons marry twin sisters, a woman creates an alter ego that might be a bit too convincing.</td>\n",
       "      <td>2021-09-21</td>\n",
       "      <td>2021</td>\n",
       "      <td>[Prashanth,  Aishwarya Rai Bachchan,  Sri Lakshmi,  Nassar]</td>\n",
       "    </tr>\n",
       "  </tbody>\n",
       "</table>\n",
       "</div>"
      ],
      "text/plain": [
       "   show_id     type                          title             director  \\\n",
       "7       s8    Movie                        Sankofa         Haile Gerima   \n",
       "8       s9  TV Show  The Great British Baking Show      Andy Devonshire   \n",
       "9      s10    Movie                   The Starling       Theodore Melfi   \n",
       "12     s13    Movie                   Je Suis Karl  Christian Schwochow   \n",
       "24     s25    Movie                          Jeans           S. Shankar   \n",
       "\n",
       "                                                                                                                                                                       cast  \\\n",
       "7                                                           Kofi Ghanaba, Oyafunmike Ogunlano, Alexandra Duah, Nick Medley, Mutabaruka, Afemo Omilami, Reggie Carter, Mzuri   \n",
       "8                                                                                                                     Mel Giedroyc, Sue Perkins, Mary Berry, Paul Hollywood   \n",
       "9    Melissa McCarthy, Chris O'Dowd, Kevin Kline, Timothy Olyphant, Daveed Diggs, Skyler Gisondo, Laura Harrier, Rosalind Chao, Kimberly Quinn, Loretta Devine, Ravi Kapoor   \n",
       "12  Luna Wedler, Jannis Niewöhner, Milan Peschel, Edin Hasanović, Anna Fialová, Marlon Boess, Victor Boccard, Fleur Geffrier, Aziz Dyab, Mélanie Fouché, Elizaveta Maximová   \n",
       "24                                                                                                                   Prashanth, Aishwarya Rai Bachchan, Sri Lakshmi, Nassar   \n",
       "\n",
       "                                                                  country  \\\n",
       "7   United States, Ghana, Burkina Faso, United Kingdom, Germany, Ethiopia   \n",
       "8                                                          United Kingdom   \n",
       "9                                                           United States   \n",
       "12                                                Germany, Czech Republic   \n",
       "24                                                                  India   \n",
       "\n",
       "   date_added  release_year rating   duration  \\\n",
       "7  2021-09-24          1993  TV-MA    125 min   \n",
       "8  2021-09-24          2021  TV-14  9 Seasons   \n",
       "9  2021-09-24          2021  PG-13    104 min   \n",
       "12 2021-09-23          2021  TV-MA    127 min   \n",
       "24 2021-09-21          1998  TV-14    166 min   \n",
       "\n",
       "                                           listed_in  \\\n",
       "7   Dramas, Independent Movies, International Movies   \n",
       "8                       British TV Shows, Reality TV   \n",
       "9                                   Comedies, Dramas   \n",
       "12                      Dramas, International Movies   \n",
       "24   Comedies, International Movies, Romantic Movies   \n",
       "\n",
       "                                                                                                                                                description  \\\n",
       "7   On a photo shoot in Ghana, an American model slips back in time, becomes enslaved on a plantation and bears witness to the agony of her ancestral past.   \n",
       "8          A talented batch of amateur bakers face off in a 10-week competition, whipping up their best dishes in the hopes of being named the U.K.'s best.   \n",
       "9   A woman adjusting to life after a loss contends with a feisty bird that's taken over her garden — and a husband who's struggling to find a way forward.   \n",
       "12            After most of her family is murdered in a terrorist bombing, a young woman is unknowingly lured into joining the very group that killed them.   \n",
       "24     When the father of the man she loves insists that his twin sons marry twin sisters, a woman creates an alter ego that might be a bit too convincing.   \n",
       "\n",
       "         date  year_added  \\\n",
       "7  2021-09-24        2021   \n",
       "8  2021-09-24        2021   \n",
       "9  2021-09-24        2021   \n",
       "12 2021-09-23        2021   \n",
       "24 2021-09-21        2021   \n",
       "\n",
       "                                                                                                                                                                                  casts  \n",
       "7                                                              [Kofi Ghanaba,  Oyafunmike Ogunlano,  Alexandra Duah,  Nick Medley,  Mutabaruka,  Afemo Omilami,  Reggie Carter,  Mzuri]  \n",
       "8                                                                                                                            [Mel Giedroyc,  Sue Perkins,  Mary Berry,  Paul Hollywood]  \n",
       "9    [Melissa McCarthy,  Chris O'Dowd,  Kevin Kline,  Timothy Olyphant,  Daveed Diggs,  Skyler Gisondo,  Laura Harrier,  Rosalind Chao,  Kimberly Quinn,  Loretta Devine,  Ravi Kapoor]  \n",
       "12  [Luna Wedler,  Jannis Niewöhner,  Milan Peschel,  Edin Hasanović,  Anna Fialová,  Marlon Boess,  Victor Boccard,  Fleur Geffrier,  Aziz Dyab,  Mélanie Fouché,  Elizaveta Maximová]  \n",
       "24                                                                                                                          [Prashanth,  Aishwarya Rai Bachchan,  Sri Lakshmi,  Nassar]  "
      ]
     },
     "execution_count": 172,
     "metadata": {},
     "output_type": "execute_result"
    }
   ],
   "source": [
    "# Adding new columns to split cast column\n",
    "df['casts']=df['cast'].apply(lambda x:x.split(','))\n",
    "df.head()"
   ]
  },
  {
   "cell_type": "code",
   "execution_count": 173,
   "id": "c34f14f8",
   "metadata": {},
   "outputs": [
    {
     "data": {
      "text/html": [
       "<div>\n",
       "<style scoped>\n",
       "    .dataframe tbody tr th:only-of-type {\n",
       "        vertical-align: middle;\n",
       "    }\n",
       "\n",
       "    .dataframe tbody tr th {\n",
       "        vertical-align: top;\n",
       "    }\n",
       "\n",
       "    .dataframe thead th {\n",
       "        text-align: right;\n",
       "    }\n",
       "</style>\n",
       "<table border=\"1\" class=\"dataframe\">\n",
       "  <thead>\n",
       "    <tr style=\"text-align: right;\">\n",
       "      <th></th>\n",
       "      <th>Frequency</th>\n",
       "    </tr>\n",
       "  </thead>\n",
       "  <tbody>\n",
       "    <tr>\n",
       "      <th>anupam kher</th>\n",
       "      <td>42</td>\n",
       "    </tr>\n",
       "    <tr>\n",
       "      <th>shah rukh khan</th>\n",
       "      <td>34</td>\n",
       "    </tr>\n",
       "    <tr>\n",
       "      <th>naseeruddin shah</th>\n",
       "      <td>31</td>\n",
       "    </tr>\n",
       "    <tr>\n",
       "      <th>om puri</th>\n",
       "      <td>30</td>\n",
       "    </tr>\n",
       "    <tr>\n",
       "      <th>akshay kumar</th>\n",
       "      <td>30</td>\n",
       "    </tr>\n",
       "  </tbody>\n",
       "</table>\n",
       "</div>"
      ],
      "text/plain": [
       "                  Frequency\n",
       "anupam kher              42\n",
       "shah rukh khan           34\n",
       "naseeruddin shah         31\n",
       "om puri                  30\n",
       "akshay kumar             30"
      ]
     },
     "execution_count": 173,
     "metadata": {},
     "output_type": "execute_result"
    }
   ],
   "source": [
    "# Use list comprehension using two for loops, and changing all cast names to lower \n",
    "# case and avoid white spaces at begining and ending.\n",
    "cast_counter = pd.Series([x.strip().lower() for cast in df.casts for x in cast]).value_counts()\n",
    "cast_counter=pd.DataFrame(cast_counter)\n",
    "cast_counter.columns=['Frequency']\n",
    "cast_counter.head()\n",
    "# Answer: Anupam Kher, shah rukh khan,naseeruddin shah are shown up most frequently in netflix database"
   ]
  },
  {
   "cell_type": "markdown",
   "id": "ee1f4419",
   "metadata": {},
   "source": [
    "##### Ans: Anupam Kher, shah rukh khan,naseeruddin shah are shown up most frequently in netflix database"
   ]
  },
  {
   "cell_type": "code",
   "execution_count": null,
   "id": "dcf50f46",
   "metadata": {},
   "outputs": [],
   "source": []
  }
 ],
 "metadata": {
  "kernelspec": {
   "display_name": "Python 3 (ipykernel)",
   "language": "python",
   "name": "python3"
  },
  "language_info": {
   "codemirror_mode": {
    "name": "ipython",
    "version": 3
   },
   "file_extension": ".py",
   "mimetype": "text/x-python",
   "name": "python",
   "nbconvert_exporter": "python",
   "pygments_lexer": "ipython3",
   "version": "3.8.13"
  }
 },
 "nbformat": 4,
 "nbformat_minor": 5
}
